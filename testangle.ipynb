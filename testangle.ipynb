{
 "cells": [
  {
   "cell_type": "code",
   "execution_count": 47,
   "metadata": {},
   "outputs": [],
   "source": [
    "import math\n",
    "def angle(x,y):\n",
    "    if x==400 and y<300:\n",
    "        return math.pi/2\n",
    "    if x== 400 and y>300:\n",
    "        return 3*math.pi/2\n",
    "    if (x==400 and y==300):\n",
    "        return 0\n",
    "    ang=math.atan(abs(300-y)/abs(x-400))\n",
    "    if (x-400)<0 and (300-y)>0:\n",
    "        print(ang)\n",
    "        return math.pi-ang\n",
    "    if x-400<0 and 300-y<0:\n",
    "        return ang+math.pi\n",
    "    if x-400>0 and 300-y<0:\n",
    "        return 2*math.pi-ang\n",
    "    else:\n",
    "        return ang\n",
    "    \n"
   ]
  },
  {
   "cell_type": "code",
   "execution_count": 49,
   "metadata": {},
   "outputs": [
    {
     "data": {
      "text/plain": [
       "5.497787143782138"
      ]
     },
     "execution_count": 49,
     "metadata": {},
     "output_type": "execute_result"
    }
   ],
   "source": [
    "angle(402,302)"
   ]
  },
  {
   "cell_type": "code",
   "execution_count": 50,
   "metadata": {},
   "outputs": [
    {
     "data": {
      "text/plain": [
       "5.497787143782138"
      ]
     },
     "execution_count": 50,
     "metadata": {},
     "output_type": "execute_result"
    }
   ],
   "source": [
    "2*math.pi-math.pi/4"
   ]
  }
 ],
 "metadata": {
  "kernelspec": {
   "display_name": "Python 3",
   "language": "python",
   "name": "python3"
  },
  "language_info": {
   "codemirror_mode": {
    "name": "ipython",
    "version": 3
   },
   "file_extension": ".py",
   "mimetype": "text/x-python",
   "name": "python",
   "nbconvert_exporter": "python",
   "pygments_lexer": "ipython3",
   "version": "3.7.4"
  }
 },
 "nbformat": 4,
 "nbformat_minor": 2
}
